{
 "cells": [
  {
   "cell_type": "code",
   "execution_count": 1,
   "id": "723f5dc9",
   "metadata": {},
   "outputs": [],
   "source": [
    "import numpy as np\n",
    "import pandas as pd\n",
    "import matplotlib.pyplot as plt\n",
    "import seaborn as sns"
   ]
  },
  {
   "cell_type": "code",
   "execution_count": 2,
   "id": "cc5b8e71",
   "metadata": {},
   "outputs": [],
   "source": [
    "from sklearn.impute import SimpleImputer\n",
    "#Library used for handling missing data\n",
    "\n",
    "from sklearn.preprocessing import LabelEncoder, OneHotEncoder \n",
    "#library used for encoding categorical data\n",
    "\n",
    "from sklearn.model_selection import train_test_split\n",
    "#used for splitting the data into training and testing set\n",
    "\n",
    "from sklearn.preprocessing import StandardScaler\n",
    "#used for feature scaling\n",
    "\n",
    "from sklearn import metrics\n"
   ]
  },
  {
   "cell_type": "code",
   "execution_count": 3,
   "id": "a4576c05",
   "metadata": {},
   "outputs": [
    {
     "data": {
      "text/html": [
       "<div>\n",
       "<style scoped>\n",
       "    .dataframe tbody tr th:only-of-type {\n",
       "        vertical-align: middle;\n",
       "    }\n",
       "\n",
       "    .dataframe tbody tr th {\n",
       "        vertical-align: top;\n",
       "    }\n",
       "\n",
       "    .dataframe thead th {\n",
       "        text-align: right;\n",
       "    }\n",
       "</style>\n",
       "<table border=\"1\" class=\"dataframe\">\n",
       "  <thead>\n",
       "    <tr style=\"text-align: right;\">\n",
       "      <th></th>\n",
       "      <th>Name</th>\n",
       "      <th>Qualification</th>\n",
       "      <th>Experience Level</th>\n",
       "      <th>Social Media App</th>\n",
       "      <th>Streaming App</th>\n",
       "      <th>Messaging App</th>\n",
       "      <th>Obsessed</th>\n",
       "    </tr>\n",
       "  </thead>\n",
       "  <tbody>\n",
       "    <tr>\n",
       "      <th>0</th>\n",
       "      <td>Sayam</td>\n",
       "      <td>UnderGraduate</td>\n",
       "      <td>Fresher</td>\n",
       "      <td>Instagram</td>\n",
       "      <td>Youtube</td>\n",
       "      <td>Whatsapp</td>\n",
       "      <td>Yes</td>\n",
       "    </tr>\n",
       "    <tr>\n",
       "      <th>1</th>\n",
       "      <td>Asif</td>\n",
       "      <td>UnderGraduate</td>\n",
       "      <td>Intermediate</td>\n",
       "      <td>Facebook</td>\n",
       "      <td>Netflix</td>\n",
       "      <td>Telegram</td>\n",
       "      <td>No</td>\n",
       "    </tr>\n",
       "    <tr>\n",
       "      <th>2</th>\n",
       "      <td>Aiyaaz</td>\n",
       "      <td>UnderGraduate</td>\n",
       "      <td>Senior</td>\n",
       "      <td>Snapchat</td>\n",
       "      <td>Prime</td>\n",
       "      <td>Signal</td>\n",
       "      <td>No</td>\n",
       "    </tr>\n",
       "    <tr>\n",
       "      <th>3</th>\n",
       "      <td>Aijaz</td>\n",
       "      <td>PostGraduate</td>\n",
       "      <td>Fresher</td>\n",
       "      <td>Instagram</td>\n",
       "      <td>Hotstar</td>\n",
       "      <td>Whatsapp</td>\n",
       "      <td>Yes</td>\n",
       "    </tr>\n",
       "    <tr>\n",
       "      <th>4</th>\n",
       "      <td>Armaan</td>\n",
       "      <td>UnderGraduate</td>\n",
       "      <td>Intermediate</td>\n",
       "      <td>Instagram</td>\n",
       "      <td>Youtube</td>\n",
       "      <td>Telegram</td>\n",
       "      <td>Yes</td>\n",
       "    </tr>\n",
       "  </tbody>\n",
       "</table>\n",
       "</div>"
      ],
      "text/plain": [
       "     Name  Qualification Experience Level Social Media App Streaming App  \\\n",
       "0   Sayam  UnderGraduate          Fresher        Instagram       Youtube   \n",
       "1    Asif  UnderGraduate     Intermediate         Facebook       Netflix   \n",
       "2  Aiyaaz  UnderGraduate           Senior         Snapchat         Prime   \n",
       "3   Aijaz   PostGraduate          Fresher        Instagram       Hotstar   \n",
       "4  Armaan  UnderGraduate     Intermediate        Instagram       Youtube   \n",
       "\n",
       "  Messaging App Obsessed  \n",
       "0      Whatsapp      Yes  \n",
       "1      Telegram       No  \n",
       "2        Signal       No  \n",
       "3      Whatsapp      Yes  \n",
       "4      Telegram      Yes  "
      ]
     },
     "execution_count": 3,
     "metadata": {},
     "output_type": "execute_result"
    }
   ],
   "source": [
    "df=pd.read_excel('CollectedData.xlsx')\n",
    "df.head()"
   ]
  },
  {
   "cell_type": "code",
   "execution_count": 4,
   "id": "919b0e62",
   "metadata": {},
   "outputs": [
    {
     "data": {
      "text/plain": [
       "Index(['Name', 'Qualification', 'Experience Level', 'Social Media App',\n",
       "       'Streaming App', 'Messaging App', 'Obsessed'],\n",
       "      dtype='object')"
      ]
     },
     "execution_count": 4,
     "metadata": {},
     "output_type": "execute_result"
    }
   ],
   "source": [
    "df.columns"
   ]
  },
  {
   "cell_type": "code",
   "execution_count": 5,
   "id": "ee05338d",
   "metadata": {},
   "outputs": [
    {
     "name": "stdout",
     "output_type": "stream",
     "text": [
      "<class 'pandas.core.frame.DataFrame'>\n",
      "RangeIndex: 59 entries, 0 to 58\n",
      "Data columns (total 7 columns):\n",
      " #   Column            Non-Null Count  Dtype \n",
      "---  ------            --------------  ----- \n",
      " 0   Name              59 non-null     object\n",
      " 1   Qualification     59 non-null     object\n",
      " 2   Experience Level  59 non-null     object\n",
      " 3   Social Media App  59 non-null     object\n",
      " 4   Streaming App     59 non-null     object\n",
      " 5   Messaging App     59 non-null     object\n",
      " 6   Obsessed          59 non-null     object\n",
      "dtypes: object(7)\n",
      "memory usage: 3.4+ KB\n"
     ]
    }
   ],
   "source": [
    "df.info()"
   ]
  },
  {
   "cell_type": "code",
   "execution_count": null,
   "id": "3745f219",
   "metadata": {},
   "outputs": [],
   "source": []
  },
  {
   "cell_type": "code",
   "execution_count": 6,
   "id": "74920894",
   "metadata": {},
   "outputs": [
    {
     "name": "stdout",
     "output_type": "stream",
     "text": [
      "Distinct values in Qualification feature : ['UnderGraduate' 'PostGraduate']\n",
      "Distinct values in Experience Level feature : ['Fresher' 'Intermediate' 'Senior']\n",
      "Distinct values in Social Media App feature : ['Instagram' 'Facebook' 'Snapchat']\n",
      "Distinct values in Streaming App feature : ['Youtube' 'Netflix' 'Prime' 'Hotstar']\n",
      "Distinct values in Messaging App feature : ['Whatsapp' 'Telegram' 'Signal']\n",
      "Distinct values in Obsessed feature : ['Yes' 'No']\n"
     ]
    }
   ],
   "source": [
    "print(\"Distinct values in Qualification feature :\",df['Qualification'].unique())\n",
    "print(\"Distinct values in Experience Level feature :\",df['Experience Level'].unique())\n",
    "print(\"Distinct values in Social Media App feature :\",df['Social Media App'].unique())\n",
    "print(\"Distinct values in Streaming App feature :\",df['Streaming App'].unique())\n",
    "print(\"Distinct values in Messaging App feature :\",df['Messaging App'].unique())\n",
    "print(\"Distinct values in Obsessed feature :\",df['Obsessed'].unique())"
   ]
  },
  {
   "cell_type": "markdown",
   "id": "0165b99d",
   "metadata": {},
   "source": [
    "Encoding the categorical features variables to Numericals"
   ]
  },
  {
   "cell_type": "code",
   "execution_count": 7,
   "id": "3f496093",
   "metadata": {},
   "outputs": [],
   "source": [
    "from sklearn import preprocessing \n",
    "le=preprocessing.LabelEncoder()\n",
    "\n",
    "df['Qualification']=le.fit_transform(df['Qualification'])\n",
    "df['Experience Level']=le.fit_transform(df['Experience Level'])\n",
    "df['Social Media App']=le.fit_transform(df['Social Media App'])\n",
    "df['Streaming App']=le.fit_transform(df['Streaming App'])\n",
    "df['Messaging App']=le.fit_transform(df['Messaging App'])\n",
    "df['Obsessed']=le.fit_transform(df['Obsessed'])"
   ]
  },
  {
   "cell_type": "code",
   "execution_count": 8,
   "id": "b33cfa24",
   "metadata": {},
   "outputs": [
    {
     "data": {
      "text/html": [
       "<div>\n",
       "<style scoped>\n",
       "    .dataframe tbody tr th:only-of-type {\n",
       "        vertical-align: middle;\n",
       "    }\n",
       "\n",
       "    .dataframe tbody tr th {\n",
       "        vertical-align: top;\n",
       "    }\n",
       "\n",
       "    .dataframe thead th {\n",
       "        text-align: right;\n",
       "    }\n",
       "</style>\n",
       "<table border=\"1\" class=\"dataframe\">\n",
       "  <thead>\n",
       "    <tr style=\"text-align: right;\">\n",
       "      <th></th>\n",
       "      <th>Name</th>\n",
       "      <th>Qualification</th>\n",
       "      <th>Experience Level</th>\n",
       "      <th>Social Media App</th>\n",
       "      <th>Streaming App</th>\n",
       "      <th>Messaging App</th>\n",
       "      <th>Obsessed</th>\n",
       "    </tr>\n",
       "  </thead>\n",
       "  <tbody>\n",
       "    <tr>\n",
       "      <th>0</th>\n",
       "      <td>Sayam</td>\n",
       "      <td>1</td>\n",
       "      <td>0</td>\n",
       "      <td>1</td>\n",
       "      <td>3</td>\n",
       "      <td>2</td>\n",
       "      <td>1</td>\n",
       "    </tr>\n",
       "    <tr>\n",
       "      <th>1</th>\n",
       "      <td>Asif</td>\n",
       "      <td>1</td>\n",
       "      <td>1</td>\n",
       "      <td>0</td>\n",
       "      <td>1</td>\n",
       "      <td>1</td>\n",
       "      <td>0</td>\n",
       "    </tr>\n",
       "    <tr>\n",
       "      <th>2</th>\n",
       "      <td>Aiyaaz</td>\n",
       "      <td>1</td>\n",
       "      <td>2</td>\n",
       "      <td>2</td>\n",
       "      <td>2</td>\n",
       "      <td>0</td>\n",
       "      <td>0</td>\n",
       "    </tr>\n",
       "    <tr>\n",
       "      <th>3</th>\n",
       "      <td>Aijaz</td>\n",
       "      <td>0</td>\n",
       "      <td>0</td>\n",
       "      <td>1</td>\n",
       "      <td>0</td>\n",
       "      <td>2</td>\n",
       "      <td>1</td>\n",
       "    </tr>\n",
       "    <tr>\n",
       "      <th>4</th>\n",
       "      <td>Armaan</td>\n",
       "      <td>1</td>\n",
       "      <td>1</td>\n",
       "      <td>1</td>\n",
       "      <td>3</td>\n",
       "      <td>1</td>\n",
       "      <td>1</td>\n",
       "    </tr>\n",
       "  </tbody>\n",
       "</table>\n",
       "</div>"
      ],
      "text/plain": [
       "     Name  Qualification  Experience Level  Social Media App  Streaming App  \\\n",
       "0   Sayam              1                 0                 1              3   \n",
       "1    Asif              1                 1                 0              1   \n",
       "2  Aiyaaz              1                 2                 2              2   \n",
       "3   Aijaz              0                 0                 1              0   \n",
       "4  Armaan              1                 1                 1              3   \n",
       "\n",
       "   Messaging App  Obsessed  \n",
       "0              2         1  \n",
       "1              1         0  \n",
       "2              0         0  \n",
       "3              2         1  \n",
       "4              1         1  "
      ]
     },
     "execution_count": 8,
     "metadata": {},
     "output_type": "execute_result"
    }
   ],
   "source": [
    "df.head()"
   ]
  },
  {
   "cell_type": "code",
   "execution_count": 9,
   "id": "218f3b21",
   "metadata": {},
   "outputs": [
    {
     "name": "stdout",
     "output_type": "stream",
     "text": [
      "<class 'pandas.core.frame.DataFrame'>\n",
      "RangeIndex: 59 entries, 0 to 58\n",
      "Data columns (total 7 columns):\n",
      " #   Column            Non-Null Count  Dtype \n",
      "---  ------            --------------  ----- \n",
      " 0   Name              59 non-null     object\n",
      " 1   Qualification     59 non-null     int32 \n",
      " 2   Experience Level  59 non-null     int32 \n",
      " 3   Social Media App  59 non-null     int32 \n",
      " 4   Streaming App     59 non-null     int32 \n",
      " 5   Messaging App     59 non-null     int32 \n",
      " 6   Obsessed          59 non-null     int32 \n",
      "dtypes: int32(6), object(1)\n",
      "memory usage: 2.0+ KB\n"
     ]
    }
   ],
   "source": [
    "#get the information of the data i.e datatype and count \n",
    "df.info()"
   ]
  },
  {
   "cell_type": "code",
   "execution_count": 10,
   "id": "48cc1ec5",
   "metadata": {},
   "outputs": [
    {
     "data": {
      "text/html": [
       "<div>\n",
       "<style scoped>\n",
       "    .dataframe tbody tr th:only-of-type {\n",
       "        vertical-align: middle;\n",
       "    }\n",
       "\n",
       "    .dataframe tbody tr th {\n",
       "        vertical-align: top;\n",
       "    }\n",
       "\n",
       "    .dataframe thead th {\n",
       "        text-align: right;\n",
       "    }\n",
       "</style>\n",
       "<table border=\"1\" class=\"dataframe\">\n",
       "  <thead>\n",
       "    <tr style=\"text-align: right;\">\n",
       "      <th></th>\n",
       "      <th>Qualification</th>\n",
       "      <th>Experience Level</th>\n",
       "      <th>Social Media App</th>\n",
       "      <th>Streaming App</th>\n",
       "      <th>Messaging App</th>\n",
       "      <th>Obsessed</th>\n",
       "    </tr>\n",
       "  </thead>\n",
       "  <tbody>\n",
       "    <tr>\n",
       "      <th>count</th>\n",
       "      <td>59.000000</td>\n",
       "      <td>59.000000</td>\n",
       "      <td>59.000000</td>\n",
       "      <td>59.000000</td>\n",
       "      <td>59.000000</td>\n",
       "      <td>59.000000</td>\n",
       "    </tr>\n",
       "    <tr>\n",
       "      <th>mean</th>\n",
       "      <td>0.728814</td>\n",
       "      <td>0.847458</td>\n",
       "      <td>1.101695</td>\n",
       "      <td>1.593220</td>\n",
       "      <td>1.067797</td>\n",
       "      <td>0.440678</td>\n",
       "    </tr>\n",
       "    <tr>\n",
       "      <th>std</th>\n",
       "      <td>0.448388</td>\n",
       "      <td>0.805446</td>\n",
       "      <td>0.844759</td>\n",
       "      <td>1.146489</td>\n",
       "      <td>0.806534</td>\n",
       "      <td>0.500730</td>\n",
       "    </tr>\n",
       "    <tr>\n",
       "      <th>min</th>\n",
       "      <td>0.000000</td>\n",
       "      <td>0.000000</td>\n",
       "      <td>0.000000</td>\n",
       "      <td>0.000000</td>\n",
       "      <td>0.000000</td>\n",
       "      <td>0.000000</td>\n",
       "    </tr>\n",
       "    <tr>\n",
       "      <th>25%</th>\n",
       "      <td>0.000000</td>\n",
       "      <td>0.000000</td>\n",
       "      <td>0.000000</td>\n",
       "      <td>1.000000</td>\n",
       "      <td>0.000000</td>\n",
       "      <td>0.000000</td>\n",
       "    </tr>\n",
       "    <tr>\n",
       "      <th>50%</th>\n",
       "      <td>1.000000</td>\n",
       "      <td>1.000000</td>\n",
       "      <td>1.000000</td>\n",
       "      <td>2.000000</td>\n",
       "      <td>1.000000</td>\n",
       "      <td>0.000000</td>\n",
       "    </tr>\n",
       "    <tr>\n",
       "      <th>75%</th>\n",
       "      <td>1.000000</td>\n",
       "      <td>1.500000</td>\n",
       "      <td>2.000000</td>\n",
       "      <td>3.000000</td>\n",
       "      <td>2.000000</td>\n",
       "      <td>1.000000</td>\n",
       "    </tr>\n",
       "    <tr>\n",
       "      <th>max</th>\n",
       "      <td>1.000000</td>\n",
       "      <td>2.000000</td>\n",
       "      <td>2.000000</td>\n",
       "      <td>3.000000</td>\n",
       "      <td>2.000000</td>\n",
       "      <td>1.000000</td>\n",
       "    </tr>\n",
       "  </tbody>\n",
       "</table>\n",
       "</div>"
      ],
      "text/plain": [
       "       Qualification  Experience Level  Social Media App  Streaming App  \\\n",
       "count      59.000000         59.000000         59.000000      59.000000   \n",
       "mean        0.728814          0.847458          1.101695       1.593220   \n",
       "std         0.448388          0.805446          0.844759       1.146489   \n",
       "min         0.000000          0.000000          0.000000       0.000000   \n",
       "25%         0.000000          0.000000          0.000000       1.000000   \n",
       "50%         1.000000          1.000000          1.000000       2.000000   \n",
       "75%         1.000000          1.500000          2.000000       3.000000   \n",
       "max         1.000000          2.000000          2.000000       3.000000   \n",
       "\n",
       "       Messaging App   Obsessed  \n",
       "count      59.000000  59.000000  \n",
       "mean        1.067797   0.440678  \n",
       "std         0.806534   0.500730  \n",
       "min         0.000000   0.000000  \n",
       "25%         0.000000   0.000000  \n",
       "50%         1.000000   0.000000  \n",
       "75%         2.000000   1.000000  \n",
       "max         2.000000   1.000000  "
      ]
     },
     "execution_count": 10,
     "metadata": {},
     "output_type": "execute_result"
    }
   ],
   "source": [
    "#Get the summary of the data\n",
    "df.describe()"
   ]
  },
  {
   "cell_type": "code",
   "execution_count": 11,
   "id": "7eb8cdfc",
   "metadata": {},
   "outputs": [
    {
     "name": "stdout",
     "output_type": "stream",
     "text": [
      "Values after encoding Qualification : [1 0]\n",
      "Values after encoding Experience Level : [0 1 2]\n",
      "Values after encoding Social Media App: [1 0 2]\n",
      "Values after encoding Streaming App : [3 1 2 0]\n",
      "Values after encoding Messaging App  : [2 1 0]\n",
      "Values after encoding Obsessed App : [1 0]\n"
     ]
    }
   ],
   "source": [
    "print(\"Values after encoding Qualification :\",df['Qualification'].unique())\n",
    "print(\"Values after encoding Experience Level :\",df['Experience Level'].unique())\n",
    "print(\"Values after encoding Social Media App:\",df['Social Media App'].unique())\n",
    "print(\"Values after encoding Streaming App :\",df['Streaming App'].unique())\n",
    "print(\"Values after encoding Messaging App  :\",df['Messaging App'].unique())\n",
    "print(\"Values after encoding Obsessed App :\",df['Obsessed'].unique())"
   ]
  },
  {
   "cell_type": "code",
   "execution_count": 12,
   "id": "f64afd7a",
   "metadata": {},
   "outputs": [
    {
     "data": {
      "text/html": [
       "<div>\n",
       "<style scoped>\n",
       "    .dataframe tbody tr th:only-of-type {\n",
       "        vertical-align: middle;\n",
       "    }\n",
       "\n",
       "    .dataframe tbody tr th {\n",
       "        vertical-align: top;\n",
       "    }\n",
       "\n",
       "    .dataframe thead th {\n",
       "        text-align: right;\n",
       "    }\n",
       "</style>\n",
       "<table border=\"1\" class=\"dataframe\">\n",
       "  <thead>\n",
       "    <tr style=\"text-align: right;\">\n",
       "      <th></th>\n",
       "      <th>Qualification</th>\n",
       "      <th>Experience Level</th>\n",
       "      <th>Social Media App</th>\n",
       "      <th>Streaming App</th>\n",
       "      <th>Messaging App</th>\n",
       "      <th>Obsessed</th>\n",
       "    </tr>\n",
       "  </thead>\n",
       "  <tbody>\n",
       "    <tr>\n",
       "      <th>Qualification</th>\n",
       "      <td>1.000000</td>\n",
       "      <td>0.169922</td>\n",
       "      <td>0.301654</td>\n",
       "      <td>-0.084131</td>\n",
       "      <td>0.004040</td>\n",
       "      <td>-0.149679</td>\n",
       "    </tr>\n",
       "    <tr>\n",
       "      <th>Experience Level</th>\n",
       "      <td>0.169922</td>\n",
       "      <td>1.000000</td>\n",
       "      <td>0.124551</td>\n",
       "      <td>0.137026</td>\n",
       "      <td>-0.169591</td>\n",
       "      <td>-0.856441</td>\n",
       "    </tr>\n",
       "    <tr>\n",
       "      <th>Social Media App</th>\n",
       "      <td>0.301654</td>\n",
       "      <td>0.124551</td>\n",
       "      <td>1.000000</td>\n",
       "      <td>-0.134571</td>\n",
       "      <td>-0.187433</td>\n",
       "      <td>-0.026252</td>\n",
       "    </tr>\n",
       "    <tr>\n",
       "      <th>Streaming App</th>\n",
       "      <td>-0.084131</td>\n",
       "      <td>0.137026</td>\n",
       "      <td>-0.134571</td>\n",
       "      <td>1.000000</td>\n",
       "      <td>-0.249347</td>\n",
       "      <td>-0.102825</td>\n",
       "    </tr>\n",
       "    <tr>\n",
       "      <th>Messaging App</th>\n",
       "      <td>0.004040</td>\n",
       "      <td>-0.169591</td>\n",
       "      <td>-0.187433</td>\n",
       "      <td>-0.249347</td>\n",
       "      <td>1.000000</td>\n",
       "      <td>0.095514</td>\n",
       "    </tr>\n",
       "    <tr>\n",
       "      <th>Obsessed</th>\n",
       "      <td>-0.149679</td>\n",
       "      <td>-0.856441</td>\n",
       "      <td>-0.026252</td>\n",
       "      <td>-0.102825</td>\n",
       "      <td>0.095514</td>\n",
       "      <td>1.000000</td>\n",
       "    </tr>\n",
       "  </tbody>\n",
       "</table>\n",
       "</div>"
      ],
      "text/plain": [
       "                  Qualification  Experience Level  Social Media App  \\\n",
       "Qualification          1.000000          0.169922          0.301654   \n",
       "Experience Level       0.169922          1.000000          0.124551   \n",
       "Social Media App       0.301654          0.124551          1.000000   \n",
       "Streaming App         -0.084131          0.137026         -0.134571   \n",
       "Messaging App          0.004040         -0.169591         -0.187433   \n",
       "Obsessed              -0.149679         -0.856441         -0.026252   \n",
       "\n",
       "                  Streaming App  Messaging App  Obsessed  \n",
       "Qualification         -0.084131       0.004040 -0.149679  \n",
       "Experience Level       0.137026      -0.169591 -0.856441  \n",
       "Social Media App      -0.134571      -0.187433 -0.026252  \n",
       "Streaming App          1.000000      -0.249347 -0.102825  \n",
       "Messaging App         -0.249347       1.000000  0.095514  \n",
       "Obsessed              -0.102825       0.095514  1.000000  "
      ]
     },
     "execution_count": 12,
     "metadata": {},
     "output_type": "execute_result"
    }
   ],
   "source": [
    "#correlation from the data\n",
    "df.corr()"
   ]
  },
  {
   "cell_type": "code",
   "execution_count": null,
   "id": "14ea66c7",
   "metadata": {},
   "outputs": [],
   "source": []
  },
  {
   "cell_type": "code",
   "execution_count": null,
   "id": "250a1aed",
   "metadata": {},
   "outputs": [],
   "source": []
  },
  {
   "cell_type": "markdown",
   "id": "950d10e3",
   "metadata": {},
   "source": [
    "Differentiate the Feature variables into \"x\" and Target variables into \"y\""
   ]
  },
  {
   "cell_type": "code",
   "execution_count": null,
   "id": "c602a968",
   "metadata": {},
   "outputs": [],
   "source": []
  },
  {
   "cell_type": "code",
   "execution_count": 13,
   "id": "e236c320",
   "metadata": {},
   "outputs": [],
   "source": [
    "feature_cols=['Qualification','Experience Level','Social Media App','Streaming App','Messaging App']\n",
    "x=df[feature_cols]\n",
    "y=df.Obsessed"
   ]
  },
  {
   "cell_type": "code",
   "execution_count": 14,
   "id": "759668bc",
   "metadata": {},
   "outputs": [
    {
     "data": {
      "text/html": [
       "<div>\n",
       "<style scoped>\n",
       "    .dataframe tbody tr th:only-of-type {\n",
       "        vertical-align: middle;\n",
       "    }\n",
       "\n",
       "    .dataframe tbody tr th {\n",
       "        vertical-align: top;\n",
       "    }\n",
       "\n",
       "    .dataframe thead th {\n",
       "        text-align: right;\n",
       "    }\n",
       "</style>\n",
       "<table border=\"1\" class=\"dataframe\">\n",
       "  <thead>\n",
       "    <tr style=\"text-align: right;\">\n",
       "      <th></th>\n",
       "      <th>Qualification</th>\n",
       "      <th>Experience Level</th>\n",
       "      <th>Social Media App</th>\n",
       "      <th>Streaming App</th>\n",
       "      <th>Messaging App</th>\n",
       "    </tr>\n",
       "  </thead>\n",
       "  <tbody>\n",
       "    <tr>\n",
       "      <th>0</th>\n",
       "      <td>1</td>\n",
       "      <td>0</td>\n",
       "      <td>1</td>\n",
       "      <td>3</td>\n",
       "      <td>2</td>\n",
       "    </tr>\n",
       "    <tr>\n",
       "      <th>1</th>\n",
       "      <td>1</td>\n",
       "      <td>1</td>\n",
       "      <td>0</td>\n",
       "      <td>1</td>\n",
       "      <td>1</td>\n",
       "    </tr>\n",
       "    <tr>\n",
       "      <th>2</th>\n",
       "      <td>1</td>\n",
       "      <td>2</td>\n",
       "      <td>2</td>\n",
       "      <td>2</td>\n",
       "      <td>0</td>\n",
       "    </tr>\n",
       "    <tr>\n",
       "      <th>3</th>\n",
       "      <td>0</td>\n",
       "      <td>0</td>\n",
       "      <td>1</td>\n",
       "      <td>0</td>\n",
       "      <td>2</td>\n",
       "    </tr>\n",
       "    <tr>\n",
       "      <th>4</th>\n",
       "      <td>1</td>\n",
       "      <td>1</td>\n",
       "      <td>1</td>\n",
       "      <td>3</td>\n",
       "      <td>1</td>\n",
       "    </tr>\n",
       "  </tbody>\n",
       "</table>\n",
       "</div>"
      ],
      "text/plain": [
       "   Qualification  Experience Level  Social Media App  Streaming App  \\\n",
       "0              1                 0                 1              3   \n",
       "1              1                 1                 0              1   \n",
       "2              1                 2                 2              2   \n",
       "3              0                 0                 1              0   \n",
       "4              1                 1                 1              3   \n",
       "\n",
       "   Messaging App  \n",
       "0              2  \n",
       "1              1  \n",
       "2              0  \n",
       "3              2  \n",
       "4              1  "
      ]
     },
     "execution_count": 14,
     "metadata": {},
     "output_type": "execute_result"
    }
   ],
   "source": [
    "x.head()"
   ]
  },
  {
   "cell_type": "code",
   "execution_count": 15,
   "id": "ade208fa",
   "metadata": {},
   "outputs": [
    {
     "data": {
      "text/plain": [
       "0    1\n",
       "1    0\n",
       "2    0\n",
       "3    1\n",
       "4    1\n",
       "Name: Obsessed, dtype: int32"
      ]
     },
     "execution_count": 15,
     "metadata": {},
     "output_type": "execute_result"
    }
   ],
   "source": [
    "y.head()"
   ]
  },
  {
   "cell_type": "code",
   "execution_count": 16,
   "id": "e81d7b5e",
   "metadata": {},
   "outputs": [],
   "source": [
    "#split dataset into training and testing set\n",
    "x_train,x_test,y_train,y_test=train_test_split(x,y,test_size=0.3,random_state=1)"
   ]
  },
  {
   "cell_type": "code",
   "execution_count": 17,
   "id": "c9e1ebcb",
   "metadata": {},
   "outputs": [
    {
     "name": "stdout",
     "output_type": "stream",
     "text": [
      "(41, 5)\n"
     ]
    }
   ],
   "source": [
    "print(x_train.shape)"
   ]
  },
  {
   "cell_type": "code",
   "execution_count": 18,
   "id": "c7e4707d",
   "metadata": {},
   "outputs": [
    {
     "name": "stdout",
     "output_type": "stream",
     "text": [
      "(18, 5)\n"
     ]
    }
   ],
   "source": [
    "print(x_test.shape)"
   ]
  },
  {
   "cell_type": "code",
   "execution_count": 19,
   "id": "301da1bb",
   "metadata": {},
   "outputs": [
    {
     "name": "stdout",
     "output_type": "stream",
     "text": [
      "(41,)\n"
     ]
    }
   ],
   "source": [
    "print(y_train.shape)"
   ]
  },
  {
   "cell_type": "code",
   "execution_count": 20,
   "id": "0e362992",
   "metadata": {},
   "outputs": [
    {
     "name": "stdout",
     "output_type": "stream",
     "text": [
      "(18,)\n"
     ]
    }
   ],
   "source": [
    "print(y_test.shape)"
   ]
  },
  {
   "cell_type": "code",
   "execution_count": 21,
   "id": "91d9db92",
   "metadata": {
    "scrolled": true
   },
   "outputs": [
    {
     "data": {
      "text/plain": [
       "DecisionTreeClassifier()"
      ]
     },
     "execution_count": 21,
     "metadata": {},
     "output_type": "execute_result"
    }
   ],
   "source": [
    "from sklearn.tree import DecisionTreeClassifier\n",
    "#Decision tree classifier\n",
    "clf=DecisionTreeClassifier()\n",
    "clf.fit(x_train,y_train)"
   ]
  },
  {
   "cell_type": "code",
   "execution_count": 22,
   "id": "9b74836d",
   "metadata": {},
   "outputs": [],
   "source": [
    "#Predict \n",
    "y_pred=clf.predict(x_test)"
   ]
  },
  {
   "cell_type": "code",
   "execution_count": 23,
   "id": "9eaa3cee",
   "metadata": {},
   "outputs": [
    {
     "name": "stdout",
     "output_type": "stream",
     "text": [
      "Accuracy: 1.0\n"
     ]
    }
   ],
   "source": [
    "#getting the acuracy\n",
    "print(\"Accuracy:\",metrics.accuracy_score(y_test,y_pred))"
   ]
  },
  {
   "cell_type": "code",
   "execution_count": 24,
   "id": "58310689",
   "metadata": {},
   "outputs": [
    {
     "name": "stdout",
     "output_type": "stream",
     "text": [
      "Collecting package metadata (current_repodata.json): ...working... done\n",
      "Note: you may need to restart the kernel to use updated packages.\n",
      "\n",
      "Solving environment: ...working... done\n",
      "\n",
      "## Package Plan ##\n",
      "\n",
      "  environment location: C:\\Users\\asus\\anaconda3\n",
      "\n",
      "  added / updated specs:\n",
      "    - graphviz\n",
      "\n",
      "\n",
      "The following packages will be downloaded:\n",
      "\n",
      "    package                    |            build\n",
      "    ---------------------------|-----------------\n",
      "    conda-22.9.0               |   py38haa95532_0         888 KB\n",
      "    ------------------------------------------------------------\n",
      "                                           Total:         888 KB\n",
      "\n",
      "The following packages will be UPDATED:\n",
      "\n",
      "  conda                               4.12.0-py38haa95532_0 --> 22.9.0-py38haa95532_0\n",
      "\n",
      "\n",
      "\n",
      "Downloading and Extracting Packages\n",
      "\n",
      "conda-22.9.0         | 888 KB    |            |   0% \n",
      "conda-22.9.0         | 888 KB    | #2         |  13% \n",
      "conda-22.9.0         | 888 KB    | ###        |  31% \n",
      "conda-22.9.0         | 888 KB    | #####2     |  52% \n",
      "conda-22.9.0         | 888 KB    | #######    |  70% \n",
      "conda-22.9.0         | 888 KB    | ########## | 100% \n",
      "conda-22.9.0         | 888 KB    | ########## | 100% \n",
      "Preparing transaction: ...working... done\n",
      "Verifying transaction: ...working... done\n",
      "Executing transaction: ...working... done\n"
     ]
    }
   ],
   "source": [
    "conda install graphviz"
   ]
  },
  {
   "cell_type": "code",
   "execution_count": 25,
   "id": "16612249",
   "metadata": {},
   "outputs": [],
   "source": [
    "from sklearn.tree import export_graphviz\n",
    "from io import StringIO  \n",
    "from IPython.display import Image  \n",
    "import pydotplus"
   ]
  },
  {
   "cell_type": "code",
   "execution_count": 26,
   "id": "92d6822a",
   "metadata": {},
   "outputs": [
    {
     "data": {
      "image/png": "[encoded data removed]",
      "text/plain": [
       "<IPython.core.display.Image object>"
      ]
     },
     "execution_count": 26,
     "metadata": {},
     "output_type": "execute_result"
    }
   ],
   "source": [
    "dot_data = StringIO()\n",
    "export_graphviz(clf, out_file=dot_data,  \n",
    "                filled=True, rounded=True,\n",
    "                special_characters=True,feature_names = feature_cols,class_names=['0','1'])\n",
    "graph = pydotplus.graph_from_dot_data(dot_data.getvalue())  \n",
    "graph.write_png('DataCollected.png')\n",
    "Image(graph.create_png())"
   ]
  },
  {
   "cell_type": "code",
   "execution_count": null,
   "id": "72153214",
   "metadata": {},
   "outputs": [],
   "source": []
  },
  {
   "cell_type": "code",
   "execution_count": 29,
   "id": "e33d70c7",
   "metadata": {},
   "outputs": [
    {
     "name": "stdout",
     "output_type": "stream",
     "text": [
      "Accuracy: 100.0\n"
     ]
    }
   ],
   "source": [
    "# Create Decision Tree classifer object\n",
    "\n",
    "from sklearn.tree import DecisionTreeClassifier\n",
    "clf = DecisionTreeClassifier(criterion=\"entropy\", max_depth=4)\n",
    "\n",
    "# Train Decision Tree Classifer\n",
    "clf=clf.fit(x_train,y_train)\n",
    "\n",
    "#Predict the response for test dataset\n",
    "y_pred = clf.predict(x_test)\n",
    "\n",
    "# Model Accuracy, how often is the classifier correct?\n",
    "print(\"Accuracy:\",metrics.accuracy_score(y_test, y_pred)*100)"
   ]
  },
  {
   "cell_type": "code",
   "execution_count": 30,
   "id": "3c562b1a",
   "metadata": {},
   "outputs": [
    {
     "data": {
      "image/png": "[encoded data removed]",
      "text/plain": [
       "<IPython.core.display.Image object>"
      ]
     },
     "execution_count": 30,
     "metadata": {},
     "output_type": "execute_result"
    }
   ],
   "source": [
    "from six import StringIO  \n",
    "from IPython.display import Image  \n",
    "from sklearn.tree import export_graphviz\n",
    "import pydotplus\n",
    "dot_data = StringIO()\n",
    "export_graphviz(clf, out_file=dot_data,  \n",
    "                filled=True, rounded=True,\n",
    "                special_characters=True, feature_names = feature_cols,class_names=['0','1'])\n",
    "graph = pydotplus.graph_from_dot_data(dot_data.getvalue())  \n",
    "graph.write_png('datacollect.png')\n",
    "Image(graph.create_png())"
   ]
  },
  {
   "cell_type": "code",
   "execution_count": null,
   "id": "344ea141",
   "metadata": {},
   "outputs": [],
   "source": []
  },
  {
   "cell_type": "code",
   "execution_count": 33,
   "id": "798ccc9b",
   "metadata": {},
   "outputs": [
    {
     "data": {
      "text/html": [
       "<div>\n",
       "<style scoped>\n",
       "    .dataframe tbody tr th:only-of-type {\n",
       "        vertical-align: middle;\n",
       "    }\n",
       "\n",
       "    .dataframe tbody tr th {\n",
       "        vertical-align: top;\n",
       "    }\n",
       "\n",
       "    .dataframe thead th {\n",
       "        text-align: right;\n",
       "    }\n",
       "</style>\n",
       "<table border=\"1\" class=\"dataframe\">\n",
       "  <thead>\n",
       "    <tr style=\"text-align: right;\">\n",
       "      <th></th>\n",
       "      <th>Name</th>\n",
       "      <th>Qualification</th>\n",
       "      <th>Experience Level</th>\n",
       "      <th>Social Media App</th>\n",
       "      <th>Streaming App</th>\n",
       "      <th>Messaging App</th>\n",
       "      <th>Obsessed</th>\n",
       "    </tr>\n",
       "  </thead>\n",
       "  <tbody>\n",
       "    <tr>\n",
       "      <th>0</th>\n",
       "      <td>Sayam</td>\n",
       "      <td>1</td>\n",
       "      <td>0</td>\n",
       "      <td>1</td>\n",
       "      <td>3</td>\n",
       "      <td>2</td>\n",
       "      <td>1</td>\n",
       "    </tr>\n",
       "    <tr>\n",
       "      <th>1</th>\n",
       "      <td>Asif</td>\n",
       "      <td>1</td>\n",
       "      <td>1</td>\n",
       "      <td>0</td>\n",
       "      <td>1</td>\n",
       "      <td>1</td>\n",
       "      <td>0</td>\n",
       "    </tr>\n",
       "    <tr>\n",
       "      <th>2</th>\n",
       "      <td>Aiyaaz</td>\n",
       "      <td>1</td>\n",
       "      <td>2</td>\n",
       "      <td>2</td>\n",
       "      <td>2</td>\n",
       "      <td>0</td>\n",
       "      <td>0</td>\n",
       "    </tr>\n",
       "    <tr>\n",
       "      <th>3</th>\n",
       "      <td>Aijaz</td>\n",
       "      <td>0</td>\n",
       "      <td>0</td>\n",
       "      <td>1</td>\n",
       "      <td>0</td>\n",
       "      <td>2</td>\n",
       "      <td>1</td>\n",
       "    </tr>\n",
       "    <tr>\n",
       "      <th>4</th>\n",
       "      <td>Armaan</td>\n",
       "      <td>1</td>\n",
       "      <td>1</td>\n",
       "      <td>1</td>\n",
       "      <td>3</td>\n",
       "      <td>1</td>\n",
       "      <td>1</td>\n",
       "    </tr>\n",
       "  </tbody>\n",
       "</table>\n",
       "</div>"
      ],
      "text/plain": [
       "     Name  Qualification  Experience Level  Social Media App  Streaming App  \\\n",
       "0   Sayam              1                 0                 1              3   \n",
       "1    Asif              1                 1                 0              1   \n",
       "2  Aiyaaz              1                 2                 2              2   \n",
       "3   Aijaz              0                 0                 1              0   \n",
       "4  Armaan              1                 1                 1              3   \n",
       "\n",
       "   Messaging App  Obsessed  \n",
       "0              2         1  \n",
       "1              1         0  \n",
       "2              0         0  \n",
       "3              2         1  \n",
       "4              1         1  "
      ]
     },
     "execution_count": 33,
     "metadata": {},
     "output_type": "execute_result"
    }
   ],
   "source": [
    "df.head()"
   ]
  },
  {
   "cell_type": "code",
   "execution_count": 34,
   "id": "86338d4e",
   "metadata": {},
   "outputs": [
    {
     "data": {
      "text/plain": [
       "Index(['Name', 'Qualification', 'Experience Level', 'Social Media App',\n",
       "       'Streaming App', 'Messaging App', 'Obsessed'],\n",
       "      dtype='object')"
      ]
     },
     "execution_count": 34,
     "metadata": {},
     "output_type": "execute_result"
    }
   ],
   "source": [
    "df.columns"
   ]
  },
  {
   "cell_type": "code",
   "execution_count": 35,
   "id": "60624c42",
   "metadata": {},
   "outputs": [
    {
     "data": {
      "text/plain": [
       "[(0, 'Qualification'),\n",
       " (1, 'Experience Level'),\n",
       " (2, 'Social Media App'),\n",
       " (3, 'Streaming App'),\n",
       " (4, 'Messaging App')]"
      ]
     },
     "execution_count": 35,
     "metadata": {},
     "output_type": "execute_result"
    }
   ],
   "source": [
    "feat=['Qualification', 'Experience Level', 'Social Media App',\n",
    "       'Streaming App', 'Messaging App']\n",
    "list(enumerate(feat))"
   ]
  },
  {
   "cell_type": "code",
   "execution_count": 36,
   "id": "8ea84f53",
   "metadata": {},
   "outputs": [
    {
     "name": "stderr",
     "output_type": "stream",
     "text": [
      "C:\\Users\\asus\\anaconda3\\lib\\site-packages\\seaborn\\_decorators.py:36: FutureWarning: Pass the following variable as a keyword arg: x. From version 0.12, the only valid positional argument will be `data`, and passing other arguments without an explicit keyword will result in an error or misinterpretation.\n",
      "  warnings.warn(\n",
      "C:\\Users\\asus\\anaconda3\\lib\\site-packages\\seaborn\\_decorators.py:36: FutureWarning: Pass the following variable as a keyword arg: x. From version 0.12, the only valid positional argument will be `data`, and passing other arguments without an explicit keyword will result in an error or misinterpretation.\n",
      "  warnings.warn(\n",
      "C:\\Users\\asus\\anaconda3\\lib\\site-packages\\seaborn\\_decorators.py:36: FutureWarning: Pass the following variable as a keyword arg: x. From version 0.12, the only valid positional argument will be `data`, and passing other arguments without an explicit keyword will result in an error or misinterpretation.\n",
      "  warnings.warn(\n",
      "C:\\Users\\asus\\anaconda3\\lib\\site-packages\\seaborn\\_decorators.py:36: FutureWarning: Pass the following variable as a keyword arg: x. From version 0.12, the only valid positional argument will be `data`, and passing other arguments without an explicit keyword will result in an error or misinterpretation.\n",
      "  warnings.warn(\n",
      "C:\\Users\\asus\\anaconda3\\lib\\site-packages\\seaborn\\_decorators.py:36: FutureWarning: Pass the following variable as a keyword arg: x. From version 0.12, the only valid positional argument will be `data`, and passing other arguments without an explicit keyword will result in an error or misinterpretation.\n",
      "  warnings.warn(\n"
     ]
    },
    {
     "data": {
      "image/png": "[encoded data removed]",
      "text/plain": [
       "<Figure size 1080x2160 with 5 Axes>"
      ]
     },
     "metadata": {
      "needs_background": "light"
     },
     "output_type": "display_data"
    }
   ],
   "source": [
    "#Plotting categorical data\n",
    "plt.figure(figsize=(15,30))\n",
    "for i in enumerate(feat):\n",
    "    plt.subplot(6,3,i[0]+1)\n",
    "    sns.countplot(i[1],hue='Obsessed',data=df)"
   ]
  },
  {
   "cell_type": "code",
   "execution_count": 37,
   "id": "14407865",
   "metadata": {},
   "outputs": [
    {
     "ename": "NameError",
     "evalue": "name 'df2' is not defined",
     "output_type": "error",
     "traceback": [
      "\u001b[1;31m---------------------------------------------------------------------------\u001b[0m",
      "\u001b[1;31mNameError\u001b[0m                                 Traceback (most recent call last)",
      "\u001b[1;32m<ipython-input-37-aa044a051a33>\u001b[0m in \u001b[0;36m<module>\u001b[1;34m\u001b[0m\n\u001b[1;32m----> 1\u001b[1;33m \u001b[0msns\u001b[0m\u001b[1;33m.\u001b[0m\u001b[0mheatmap\u001b[0m\u001b[1;33m(\u001b[0m\u001b[0mdf2\u001b[0m\u001b[1;33m.\u001b[0m\u001b[0mcorr\u001b[0m\u001b[1;33m(\u001b[0m\u001b[1;33m)\u001b[0m\u001b[1;33m,\u001b[0m\u001b[0mannot\u001b[0m\u001b[1;33m=\u001b[0m\u001b[1;32mTrue\u001b[0m\u001b[1;33m,\u001b[0m\u001b[0mcmap\u001b[0m\u001b[1;33m=\u001b[0m\u001b[1;34m\"YlGnBu\"\u001b[0m\u001b[1;33m)\u001b[0m\u001b[1;33m\u001b[0m\u001b[1;33m\u001b[0m\u001b[0m\n\u001b[0m",
      "\u001b[1;31mNameError\u001b[0m: name 'df2' is not defined"
     ]
    }
   ],
   "source": [
    "sns.heatmap(df2.corr(),annot=True,cmap=\"YlGnBu\")"
   ]
  },
  {
   "cell_type": "markdown",
   "id": "48ffd251",
   "metadata": {},
   "source": [
    "Using Gaussian Naive Bayes"
   ]
  },
  {
   "cell_type": "code",
   "execution_count": 38,
   "id": "dd6737ae",
   "metadata": {},
   "outputs": [],
   "source": [
    "#Splitting data \n",
    "#import tran_test_split function\n",
    "\n",
    "from sklearn.model_selection import train_test_split\n",
    "\n",
    "#split dataset into training set and test set\n",
    "#split dataset into training and testing set\n",
    "X_train,X_test,Y_train,Y_test=train_test_split(x,y,test_size=0.2,random_state=1)"
   ]
  },
  {
   "cell_type": "code",
   "execution_count": 39,
   "id": "6e652fbc",
   "metadata": {},
   "outputs": [
    {
     "name": "stdout",
     "output_type": "stream",
     "text": [
      "Shape of X_train: (47, 5)\n",
      "Shape of X_test: (12, 5)\n",
      "Shape of Y_train: (47,)\n",
      "Shape of Y_test: (12,)\n"
     ]
    }
   ],
   "source": [
    "print('Shape of X_train:',X_train.shape)\n",
    "print('Shape of X_test:',X_test.shape)\n",
    "print('Shape of Y_train:',Y_train.shape)\n",
    "print('Shape of Y_test:',Y_test.shape)"
   ]
  },
  {
   "cell_type": "code",
   "execution_count": 40,
   "id": "1be74659",
   "metadata": {},
   "outputs": [
    {
     "data": {
      "text/plain": [
       "GaussianNB()"
      ]
     },
     "execution_count": 40,
     "metadata": {},
     "output_type": "execute_result"
    }
   ],
   "source": [
    "# import gaussian naive bayes model\n",
    "from sklearn.naive_bayes import GaussianNB\n",
    "\n",
    "#Create a gaussian classifier\n",
    "classifier=GaussianNB()\n",
    "\n",
    "#train the model using the training sets\n",
    "classifier.fit(X_train,Y_train)"
   ]
  },
  {
   "cell_type": "code",
   "execution_count": 41,
   "id": "4bfefa5f",
   "metadata": {},
   "outputs": [
    {
     "name": "stdout",
     "output_type": "stream",
     "text": [
      "[1 0 0 0 1 1 0 0 1 1 0 1]\n",
      "Score 1.0\n"
     ]
    }
   ],
   "source": [
    "#Predict the response for test dataset\n",
    "Y_pred=classifier.predict(X_test)\n",
    "print(Y_pred)\n",
    "print(\"Score\",classifier.score(X_test,Y_test))"
   ]
  },
  {
   "cell_type": "code",
   "execution_count": 43,
   "id": "cd7feb34",
   "metadata": {},
   "outputs": [],
   "source": [
    "#Using Multinomial Naive bayes Model"
   ]
  },
  {
   "cell_type": "code",
   "execution_count": 44,
   "id": "cbb5aa7d",
   "metadata": {},
   "outputs": [
    {
     "data": {
      "text/plain": [
       "MultinomialNB()"
      ]
     },
     "execution_count": 44,
     "metadata": {},
     "output_type": "execute_result"
    }
   ],
   "source": [
    "# import Multinomial naive bayes model\n",
    "\n",
    "from sklearn.naive_bayes import MultinomialNB\n",
    "\n",
    "#Create a gaussian classifier\n",
    "classifier_m=MultinomialNB()\n",
    "\n",
    "#train the model using the training sets\n",
    "classifier_m.fit(X_train,Y_train)\n"
   ]
  },
  {
   "cell_type": "code",
   "execution_count": 45,
   "id": "1e59c6d3",
   "metadata": {},
   "outputs": [
    {
     "name": "stdout",
     "output_type": "stream",
     "text": [
      "[1 0 0 0 1 1 0 0 1 1 0 1]\n",
      "Score 1.0\n"
     ]
    }
   ],
   "source": [
    "#Predict the response for test dataset\n",
    "\n",
    "Y_pred=classifier_m.predict(X_test)\n",
    "print(Y_pred)\n",
    "\n",
    "print(\"Score\",classifier_m.score(X_test,Y_test))"
   ]
  },
  {
   "cell_type": "markdown",
   "id": "dc2a5c01",
   "metadata": {},
   "source": [
    "Bernoulli naive bayes model"
   ]
  },
  {
   "cell_type": "code",
   "execution_count": 46,
   "id": "69c989a9",
   "metadata": {},
   "outputs": [
    {
     "data": {
      "text/plain": [
       "BernoulliNB()"
      ]
     },
     "execution_count": 46,
     "metadata": {},
     "output_type": "execute_result"
    }
   ],
   "source": [
    "# import Bernoulli naive bayes model\n",
    "\n",
    "from sklearn.naive_bayes import BernoulliNB\n",
    "\n",
    "#Create a gaussian classifier\n",
    "classifier_b=BernoulliNB()\n",
    "\n",
    "#train the model using the training sets\n",
    "classifier_b.fit(X_train,Y_train)\n"
   ]
  },
  {
   "cell_type": "code",
   "execution_count": 47,
   "id": "cd9d3485",
   "metadata": {},
   "outputs": [
    {
     "name": "stdout",
     "output_type": "stream",
     "text": [
      "[1 0 0 0 1 1 0 0 1 1 0 1]\n",
      "Score 1.0\n"
     ]
    }
   ],
   "source": [
    "#Predict the response for test dataset\n",
    "\n",
    "Y_pred=classifier_b.predict(X_test)\n",
    "print(Y_pred)\n",
    "\n",
    "print(\"Score\",classifier_b.score(X_test,Y_test))"
   ]
  },
  {
   "cell_type": "code",
   "execution_count": 48,
   "id": "cae997f9",
   "metadata": {},
   "outputs": [
    {
     "data": {
      "text/plain": [
       "array([[1, 3, 1, 1, 2]])"
      ]
     },
     "execution_count": 48,
     "metadata": {},
     "output_type": "execute_result"
    }
   ],
   "source": [
    "p=[1,3,1,1,2]\n",
    "predi=np.array([p])\n",
    "predi"
   ]
  },
  {
   "cell_type": "markdown",
   "id": "7950302d",
   "metadata": {},
   "source": [
    "here,1 means 'Yes' obsessed and 0 means 'No' not obsessed."
   ]
  },
  {
   "cell_type": "code",
   "execution_count": null,
   "id": "ed6adfb6",
   "metadata": {},
   "outputs": [],
   "source": []
  },
  {
   "cell_type": "markdown",
   "id": "ee73b99e",
   "metadata": {},
   "source": [
    "2. remaining"
   ]
  },
  {
   "cell_type": "code",
   "execution_count": 50,
   "id": "5dc1ea91",
   "metadata": {},
   "outputs": [
    {
     "name": "stdout",
     "output_type": "stream",
     "text": [
      "Confusion Matrix [[9 0]\n",
      " [0 9]]\n"
     ]
    }
   ],
   "source": [
    "from sklearn import  metrics\n",
    "confusionmatrix_DT=metrics.confusion_matrix(y_test,y_pred)\n",
    "print(\"Confusion Matrix\",confusionmatrix_DT)"
   ]
  },
  {
   "cell_type": "code",
   "execution_count": 51,
   "id": "0e1e268e",
   "metadata": {},
   "outputs": [
    {
     "name": "stdout",
     "output_type": "stream",
     "text": [
      "Accuracy of the model: 100.0\n",
      "Confusion matrix\n",
      " [[9 0]\n",
      " [0 9]]\n"
     ]
    }
   ],
   "source": [
    "from sklearn import tree\n",
    "t=tree.DecisionTreeClassifier()\n",
    "t.fit(x_train,y_train)\n",
    "y_pred=t.predict(x_test)\n",
    "#score/accuracy\n",
    "acc_dt=t.score(x_test,y_test)*100\n",
    "print('Accuracy of the model:',acc_dt)\n",
    "dt_confusion=metrics.confusion_matrix(y_test,y_pred)\n",
    "print(\"Confusion matrix\\n\",dt_confusion)"
   ]
  },
  {
   "cell_type": "code",
   "execution_count": 52,
   "id": "7187ea3d",
   "metadata": {},
   "outputs": [
    {
     "name": "stdout",
     "output_type": "stream",
     "text": [
      "Accuracy of the model: 100.0\n",
      "Confusion matrix [[9 0]\n",
      " [0 9]]\n"
     ]
    }
   ],
   "source": [
    "from sklearn.naive_bayes import GaussianNB\n",
    "GB=GaussianNB()\n",
    "GB.fit(x_train,y_train)\n",
    "y_pred=GB.predict(x_test)\n",
    "#score/GBccuracy\n",
    "acc_GB=GB.score(x_test,y_test)*100\n",
    "print('Accuracy of the model:',acc_GB)\n",
    "GB_confusion=metrics.confusion_matrix(y_test,y_pred)\n",
    "print(\"Confusion matrix\",GB_confusion)"
   ]
  },
  {
   "cell_type": "code",
   "execution_count": 53,
   "id": "44949c77",
   "metadata": {},
   "outputs": [
    {
     "name": "stdout",
     "output_type": "stream",
     "text": [
      "\n",
      " Classification report :\n",
      "               precision    recall  f1-score   support\n",
      "\n",
      "           0       1.00      1.00      1.00         9\n",
      "           1       1.00      1.00      1.00         9\n",
      "\n",
      "    accuracy                           1.00        18\n",
      "   macro avg       1.00      1.00      1.00        18\n",
      "weighted avg       1.00      1.00      1.00        18\n",
      "\n"
     ]
    }
   ],
   "source": [
    "Class_R=metrics.classification_report(y_test,y_pred)\n",
    "print('\\n Classification report :\\n',Class_R)"
   ]
  },
  {
   "cell_type": "code",
   "execution_count": 54,
   "id": "61f3d18f",
   "metadata": {},
   "outputs": [
    {
     "name": "stdout",
     "output_type": "stream",
     "text": [
      "Accuracy of the model: 66.66666666666666\n",
      "Confusion matrix [[9 0]\n",
      " [6 3]]\n"
     ]
    }
   ],
   "source": [
    "from sklearn.neighbors import KNeighborsClassifier\n",
    "knn=KNeighborsClassifier(n_neighbors=20)\n",
    "knn.fit(x_train,y_train)\n",
    "y_pred=knn.predict(x_test)\n",
    "#score/GBccuracy\n",
    "acc_knn=knn.score(x_test,y_test)*100\n",
    "print('Accuracy of the model:',acc_knn)\n",
    "knn_confusion=metrics.confusion_matrix(y_test,y_pred)\n",
    "print(\"Confusion matrix\",knn_confusion)"
   ]
  },
  {
   "cell_type": "code",
   "execution_count": null,
   "id": "463957a2",
   "metadata": {},
   "outputs": [],
   "source": []
  },
  {
   "cell_type": "code",
   "execution_count": 49,
   "id": "3a69d6a7",
   "metadata": {},
   "outputs": [
    {
     "name": "stdout",
     "output_type": "stream",
     "text": [
      "Predict: [0]\n",
      "No the person isn't obsessed using social media\n"
     ]
    }
   ],
   "source": [
    "pre=classifier.predict(predi)\n",
    "print(\"Predict:\",pre)\n",
    "\n",
    "if pre[0] == 0:\n",
    "    print(\"No the person isn't obsessed using social media\")\n",
    "else:\n",
    "    print(\"Yes the person is obsessed using social media\")"
   ]
  }
 ],
 "metadata": {
  "kernelspec": {
   "display_name": "Python 3",
   "language": "python",
   "name": "python3"
  },
  "language_info": {
   "codemirror_mode": {
    "name": "ipython",
    "version": 3
   },
   "file_extension": ".py",
   "mimetype": "text/x-python",
   "name": "python",
   "nbconvert_exporter": "python",
   "pygments_lexer": "ipython3",
   "version": "3.8.8"
  }
 },
 "nbformat": 4,
 "nbformat_minor": 5
}
